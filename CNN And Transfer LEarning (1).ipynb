{
 "cells": [
  {
   "cell_type": "markdown",
   "metadata": {},
   "source": [
    "## Creating CNN Using Scratch And Transfer Learning"
   ]
  },
  {
   "cell_type": "markdown",
   "metadata": {},
   "source": [
    "Please download the dataset from the below url"
   ]
  },
  {
   "cell_type": "code",
   "execution_count": 84,
   "metadata": {},
   "outputs": [],
   "source": [
    "# import the libraries as shown below\n",
    "\n",
    "from tensorflow.keras.layers import Input, Lambda, Dense, Flatten,Conv2D\n",
    "from tensorflow.keras.models import Model\n",
    "from tensorflow.keras.applications.vgg19 import VGG19\n",
    "from tensorflow.keras.applications.resnet50 import preprocess_input\n",
    "from tensorflow.keras.preprocessing import image\n",
    "from tensorflow.keras.preprocessing.image import ImageDataGenerator,load_img\n",
    "from tensorflow.keras.models import Sequential\n",
    "import numpy as np\n",
    "from glob import glob\n",
    "import matplotlib.pyplot as plt"
   ]
  },
  {
   "cell_type": "code",
   "execution_count": 85,
   "metadata": {},
   "outputs": [],
   "source": [
    "# re-size all the images to this\n",
    "IMAGE_SIZE = [224, 224]\n",
    "\n",
    "train_path = 'E:\\Malaria-Detection-master\\Dataset\\Train'\n",
    "valid_path = 'E:\\Malaria-Detection-master\\Dataset\\Train/Test'\n"
   ]
  },
  {
   "cell_type": "code",
   "execution_count": 86,
   "metadata": {},
   "outputs": [],
   "source": [
    "# Import the Vgg 16 library as shown below and add preprocessing layer to the front of VGG\n",
    "# Here we will be using imagenet weights\n",
    "\n",
    "mobilnet = VGG19(input_shape=IMAGE_SIZE + [3], weights='imagenet', include_top=False)\n",
    "\n",
    "\n"
   ]
  },
  {
   "cell_type": "code",
   "execution_count": 87,
   "metadata": {},
   "outputs": [],
   "source": [
    "# don't train existing weights\n",
    "for layer in mobilnet.layers:\n",
    "    layer.trainable = False"
   ]
  },
  {
   "cell_type": "code",
   "execution_count": 88,
   "metadata": {},
   "outputs": [],
   "source": [
    "  # useful for getting number of output classes\n",
    "folders = 2"
   ]
  },
  {
   "cell_type": "code",
   "execution_count": 89,
   "metadata": {},
   "outputs": [
    {
     "data": {
      "text/plain": [
       "2"
      ]
     },
     "execution_count": 89,
     "metadata": {},
     "output_type": "execute_result"
    }
   ],
   "source": [
    "folders"
   ]
  },
  {
   "cell_type": "code",
   "execution_count": 90,
   "metadata": {},
   "outputs": [],
   "source": [
    "# our layers - you can add more if you want\n",
    "x = Flatten()(mobilnet.output)"
   ]
  },
  {
   "cell_type": "code",
   "execution_count": 91,
   "metadata": {},
   "outputs": [],
   "source": [
    "prediction = Dense(2, activation='softmax')(x)\n",
    "\n",
    "# create a model object\n",
    "model = Model(inputs=mobilnet.input, outputs=prediction)"
   ]
  },
  {
   "cell_type": "code",
   "execution_count": 92,
   "metadata": {},
   "outputs": [
    {
     "name": "stdout",
     "output_type": "stream",
     "text": [
      "_________________________________________________________________\n",
      "Layer (type)                 Output Shape              Param #   \n",
      "=================================================================\n",
      "input_2 (InputLayer)         (None, 224, 224, 3)       0         \n",
      "_________________________________________________________________\n",
      "block1_conv1 (Conv2D)        (None, 224, 224, 64)      1792      \n",
      "_________________________________________________________________\n",
      "block1_conv2 (Conv2D)        (None, 224, 224, 64)      36928     \n",
      "_________________________________________________________________\n",
      "block1_pool (MaxPooling2D)   (None, 112, 112, 64)      0         \n",
      "_________________________________________________________________\n",
      "block2_conv1 (Conv2D)        (None, 112, 112, 128)     73856     \n",
      "_________________________________________________________________\n",
      "block2_conv2 (Conv2D)        (None, 112, 112, 128)     147584    \n",
      "_________________________________________________________________\n",
      "block2_pool (MaxPooling2D)   (None, 56, 56, 128)       0         \n",
      "_________________________________________________________________\n",
      "block3_conv1 (Conv2D)        (None, 56, 56, 256)       295168    \n",
      "_________________________________________________________________\n",
      "block3_conv2 (Conv2D)        (None, 56, 56, 256)       590080    \n",
      "_________________________________________________________________\n",
      "block3_conv3 (Conv2D)        (None, 56, 56, 256)       590080    \n",
      "_________________________________________________________________\n",
      "block3_conv4 (Conv2D)        (None, 56, 56, 256)       590080    \n",
      "_________________________________________________________________\n",
      "block3_pool (MaxPooling2D)   (None, 28, 28, 256)       0         \n",
      "_________________________________________________________________\n",
      "block4_conv1 (Conv2D)        (None, 28, 28, 512)       1180160   \n",
      "_________________________________________________________________\n",
      "block4_conv2 (Conv2D)        (None, 28, 28, 512)       2359808   \n",
      "_________________________________________________________________\n",
      "block4_conv3 (Conv2D)        (None, 28, 28, 512)       2359808   \n",
      "_________________________________________________________________\n",
      "block4_conv4 (Conv2D)        (None, 28, 28, 512)       2359808   \n",
      "_________________________________________________________________\n",
      "block4_pool (MaxPooling2D)   (None, 14, 14, 512)       0         \n",
      "_________________________________________________________________\n",
      "block5_conv1 (Conv2D)        (None, 14, 14, 512)       2359808   \n",
      "_________________________________________________________________\n",
      "block5_conv2 (Conv2D)        (None, 14, 14, 512)       2359808   \n",
      "_________________________________________________________________\n",
      "block5_conv3 (Conv2D)        (None, 14, 14, 512)       2359808   \n",
      "_________________________________________________________________\n",
      "block5_conv4 (Conv2D)        (None, 14, 14, 512)       2359808   \n",
      "_________________________________________________________________\n",
      "block5_pool (MaxPooling2D)   (None, 7, 7, 512)         0         \n",
      "_________________________________________________________________\n",
      "flatten_3 (Flatten)          (None, 25088)             0         \n",
      "_________________________________________________________________\n",
      "dense_4 (Dense)              (None, 2)                 50178     \n",
      "=================================================================\n",
      "Total params: 20,074,562\n",
      "Trainable params: 50,178\n",
      "Non-trainable params: 20,024,384\n",
      "_________________________________________________________________\n"
     ]
    }
   ],
   "source": [
    "\n",
    "# view the structure of the model\n",
    "model.summary()\n"
   ]
  },
  {
   "cell_type": "code",
   "execution_count": 93,
   "metadata": {},
   "outputs": [],
   "source": [
    "from tensorflow.keras.layers import MaxPooling2D"
   ]
  },
  {
   "cell_type": "code",
   "execution_count": 94,
   "metadata": {},
   "outputs": [
    {
     "name": "stdout",
     "output_type": "stream",
     "text": [
      "_________________________________________________________________\n",
      "Layer (type)                 Output Shape              Param #   \n",
      "=================================================================\n",
      "conv2d_3 (Conv2D)            (None, 224, 224, 16)      208       \n",
      "_________________________________________________________________\n",
      "max_pooling2d_3 (MaxPooling2 (None, 112, 112, 16)      0         \n",
      "_________________________________________________________________\n",
      "conv2d_4 (Conv2D)            (None, 112, 112, 32)      2080      \n",
      "_________________________________________________________________\n",
      "max_pooling2d_4 (MaxPooling2 (None, 56, 56, 32)        0         \n",
      "_________________________________________________________________\n",
      "conv2d_5 (Conv2D)            (None, 56, 56, 64)        8256      \n",
      "_________________________________________________________________\n",
      "max_pooling2d_5 (MaxPooling2 (None, 28, 28, 64)        0         \n",
      "_________________________________________________________________\n",
      "flatten_4 (Flatten)          (None, 50176)             0         \n",
      "_________________________________________________________________\n",
      "dense_5 (Dense)              (None, 500)               25088500  \n",
      "_________________________________________________________________\n",
      "dense_6 (Dense)              (None, 2)                 1002      \n",
      "=================================================================\n",
      "Total params: 25,100,046\n",
      "Trainable params: 25,100,046\n",
      "Non-trainable params: 0\n",
      "_________________________________________________________________\n"
     ]
    }
   ],
   "source": [
    "### Create Model from scratch using CNN\n",
    "model=Sequential()\n",
    "model.add(Conv2D(filters=16,kernel_size=2,padding=\"same\",activation=\"relu\",input_shape=(224,224,3)))\n",
    "model.add(MaxPooling2D(pool_size=2))\n",
    "model.add(Conv2D(filters=32,kernel_size=2,padding=\"same\",activation =\"relu\"))\n",
    "model.add(MaxPooling2D(pool_size=2))\n",
    "model.add(Conv2D(filters=64,kernel_size=2,padding=\"same\",activation=\"relu\"))\n",
    "model.add(MaxPooling2D(pool_size=2))\n",
    "model.add(Flatten())\n",
    "model.add(Dense(500,activation=\"relu\"))\n",
    "model.add(Dense(2,activation=\"softmax\"))\n",
    "model.summary()"
   ]
  },
  {
   "cell_type": "code",
   "execution_count": 95,
   "metadata": {},
   "outputs": [],
   "source": [
    "# tell the model what cost and optimization method to use\n",
    "model.compile(\n",
    "  loss='categorical_crossentropy',\n",
    "  optimizer='adam',\n",
    "  metrics=['accuracy']\n",
    ")\n"
   ]
  },
  {
   "cell_type": "code",
   "execution_count": 96,
   "metadata": {},
   "outputs": [],
   "source": [
    "# Use the Image Data Generator to import the images from the dataset\n",
    "from tensorflow.keras.preprocessing.image import ImageDataGenerator\n",
    "\n",
    "train_datagen = ImageDataGenerator(rescale = 1./255,\n",
    "                                   shear_range = 0.2,\n",
    "                                   zoom_range = 0.2,\n",
    "                                   horizontal_flip = True)\n",
    "\n",
    "test_datagen = ImageDataGenerator(rescale = 1./255)"
   ]
  },
  {
   "cell_type": "code",
   "execution_count": 97,
   "metadata": {},
   "outputs": [
    {
     "name": "stdout",
     "output_type": "stream",
     "text": [
      "Found 416 images belonging to 2 classes.\n"
     ]
    }
   ],
   "source": [
    "# Make sure you provide the same target size as initialied for the image size\n",
    "training_set = train_datagen.flow_from_directory('E:\\Malaria-Detection-master\\Dataset\\Train',\n",
    "                                                 target_size = (224, 224),\n",
    "                                                 batch_size = 32,\n",
    "                                                 class_mode = 'categorical')"
   ]
  },
  {
   "cell_type": "code",
   "execution_count": 98,
   "metadata": {},
   "outputs": [
    {
     "data": {
      "text/plain": [
       "<keras_preprocessing.image.directory_iterator.DirectoryIterator at 0x290ac881048>"
      ]
     },
     "execution_count": 98,
     "metadata": {},
     "output_type": "execute_result"
    }
   ],
   "source": [
    "training_set"
   ]
  },
  {
   "cell_type": "code",
   "execution_count": 99,
   "metadata": {},
   "outputs": [
    {
     "name": "stdout",
     "output_type": "stream",
     "text": [
      "Found 134 images belonging to 2 classes.\n"
     ]
    }
   ],
   "source": [
    "test_set = test_datagen.flow_from_directory('E:\\Malaria-Detection-master\\Dataset\\Test',\n",
    "                                            target_size = (224, 224),\n",
    "                                            batch_size = 32,\n",
    "                                            class_mode = 'categorical')"
   ]
  },
  {
   "cell_type": "code",
   "execution_count": 100,
   "metadata": {
    "scrolled": true
   },
   "outputs": [
    {
     "name": "stdout",
     "output_type": "stream",
     "text": [
      "Epoch 1/30\n",
      "5/5 [==============================] - 5s 1s/step - loss: 0.6529 - acc: 0.6791\n",
      "13/13 [==============================] - 40s 3s/step - loss: 2.0716 - acc: 0.4784 - val_loss: 0.6529 - val_acc: 0.6791\n",
      "Epoch 2/30\n",
      "5/5 [==============================] - 2s 302ms/step - loss: 0.6838 - acc: 0.6194\n",
      "13/13 [==============================] - 19s 1s/step - loss: 0.7016 - acc: 0.5361 - val_loss: 0.6838 - val_acc: 0.6194\n",
      "Epoch 3/30\n",
      "5/5 [==============================] - 1s 294ms/step - loss: 0.7002 - acc: 0.4030\n",
      "13/13 [==============================] - 19s 1s/step - loss: 0.6490 - acc: 0.6635 - val_loss: 0.7002 - val_acc: 0.4030\n",
      "Epoch 4/30\n",
      "5/5 [==============================] - 2s 302ms/step - loss: 0.7590 - acc: 0.3881\n",
      "13/13 [==============================] - 19s 1s/step - loss: 0.5754 - acc: 0.6995 - val_loss: 0.7590 - val_acc: 0.3881\n",
      "Epoch 5/30\n",
      "5/5 [==============================] - 2s 308ms/step - loss: 0.9514 - acc: 0.6791\n",
      "13/13 [==============================] - 20s 2s/step - loss: 0.5400 - acc: 0.7139 - val_loss: 0.9514 - val_acc: 0.6791\n",
      "Epoch 6/30\n",
      "5/5 [==============================] - 2s 313ms/step - loss: 0.8403 - acc: 0.3657\n",
      "13/13 [==============================] - 20s 2s/step - loss: 0.6187 - acc: 0.6298 - val_loss: 0.8403 - val_acc: 0.3657\n",
      "Epoch 7/30\n",
      "5/5 [==============================] - 2s 310ms/step - loss: 0.8140 - acc: 0.4179\n",
      "13/13 [==============================] - 20s 2s/step - loss: 0.5371 - acc: 0.7019 - val_loss: 0.8140 - val_acc: 0.4179\n",
      "Epoch 8/30\n",
      "5/5 [==============================] - 2s 318ms/step - loss: 0.6990 - acc: 0.5149\n",
      "13/13 [==============================] - 20s 2s/step - loss: 0.5445 - acc: 0.6851 - val_loss: 0.6990 - val_acc: 0.5149\n",
      "Epoch 9/30\n",
      "5/5 [==============================] - 2s 319ms/step - loss: 0.9097 - acc: 0.4254\n",
      "13/13 [==============================] - 20s 2s/step - loss: 0.4428 - acc: 0.7933 - val_loss: 0.9097 - val_acc: 0.4254\n",
      "Epoch 10/30\n",
      "5/5 [==============================] - 2s 314ms/step - loss: 0.8052 - acc: 0.5075\n",
      "13/13 [==============================] - 20s 2s/step - loss: 0.3673 - acc: 0.8125 - val_loss: 0.8052 - val_acc: 0.5075\n",
      "Epoch 11/30\n",
      "5/5 [==============================] - 2s 319ms/step - loss: 0.7352 - acc: 0.6418\n",
      "13/13 [==============================] - 21s 2s/step - loss: 0.3493 - acc: 0.8510 - val_loss: 0.7352 - val_acc: 0.6418\n",
      "Epoch 12/30\n",
      "5/5 [==============================] - 2s 320ms/step - loss: 0.6121 - acc: 0.6642\n",
      "13/13 [==============================] - 20s 2s/step - loss: 0.3621 - acc: 0.8462 - val_loss: 0.6121 - val_acc: 0.6642\n",
      "Epoch 13/30\n",
      "5/5 [==============================] - 2s 325ms/step - loss: 0.6296 - acc: 0.7015\n",
      "13/13 [==============================] - 21s 2s/step - loss: 0.2777 - acc: 0.9038 - val_loss: 0.6296 - val_acc: 0.7015\n",
      "Epoch 14/30\n",
      "5/5 [==============================] - 2s 333ms/step - loss: 0.5060 - acc: 0.7836\n",
      "13/13 [==============================] - 20s 2s/step - loss: 0.2493 - acc: 0.8990 - val_loss: 0.5060 - val_acc: 0.7836\n",
      "Epoch 15/30\n",
      "5/5 [==============================] - 2s 342ms/step - loss: 0.6073 - acc: 0.7463\n",
      "13/13 [==============================] - 21s 2s/step - loss: 0.2042 - acc: 0.9255 - val_loss: 0.6073 - val_acc: 0.7463\n",
      "Epoch 16/30\n",
      "5/5 [==============================] - 2s 341ms/step - loss: 0.4979 - acc: 0.7761\n",
      "13/13 [==============================] - 22s 2s/step - loss: 0.1874 - acc: 0.9351 - val_loss: 0.4979 - val_acc: 0.7761\n",
      "Epoch 17/30\n",
      "5/5 [==============================] - 2s 349ms/step - loss: 0.5790 - acc: 0.6940\n",
      "13/13 [==============================] - 21s 2s/step - loss: 0.4955 - acc: 0.8125 - val_loss: 0.5790 - val_acc: 0.6940\n",
      "Epoch 18/30\n",
      "5/5 [==============================] - 2s 342ms/step - loss: 0.6216 - acc: 0.6716\n",
      "13/13 [==============================] - 21s 2s/step - loss: 0.5657 - acc: 0.7404 - val_loss: 0.6216 - val_acc: 0.6716\n",
      "Epoch 19/30\n",
      "5/5 [==============================] - 2s 337ms/step - loss: 0.6339 - acc: 0.6119\n",
      "13/13 [==============================] - 21s 2s/step - loss: 0.5108 - acc: 0.7909 - val_loss: 0.6339 - val_acc: 0.6119\n",
      "Epoch 20/30\n",
      "5/5 [==============================] - 2s 324ms/step - loss: 0.9145 - acc: 0.5672\n",
      "13/13 [==============================] - 21s 2s/step - loss: 0.3718 - acc: 0.8221 - val_loss: 0.9145 - val_acc: 0.5672\n",
      "Epoch 21/30\n",
      "5/5 [==============================] - 2s 336ms/step - loss: 0.6969 - acc: 0.6418\n",
      "13/13 [==============================] - 20s 2s/step - loss: 0.2835 - acc: 0.8894 - val_loss: 0.6969 - val_acc: 0.6418\n",
      "Epoch 22/30\n",
      "5/5 [==============================] - 2s 344ms/step - loss: 0.5207 - acc: 0.7388\n",
      "13/13 [==============================] - 20s 2s/step - loss: 0.2126 - acc: 0.9255 - val_loss: 0.5207 - val_acc: 0.7388\n",
      "Epoch 23/30\n",
      "5/5 [==============================] - 2s 330ms/step - loss: 0.3980 - acc: 0.8507\n",
      "13/13 [==============================] - 20s 2s/step - loss: 0.2290 - acc: 0.9159 - val_loss: 0.3980 - val_acc: 0.8507\n",
      "Epoch 24/30\n",
      "5/5 [==============================] - 2s 345ms/step - loss: 0.3930 - acc: 0.8507\n",
      "13/13 [==============================] - 21s 2s/step - loss: 0.1721 - acc: 0.9375 - val_loss: 0.3930 - val_acc: 0.8507\n",
      "Epoch 25/30\n",
      "5/5 [==============================] - 2s 364ms/step - loss: 0.3490 - acc: 0.8657\n",
      "13/13 [==============================] - 21s 2s/step - loss: 0.1316 - acc: 0.9567 - val_loss: 0.3490 - val_acc: 0.8657\n",
      "Epoch 26/30\n",
      "5/5 [==============================] - 2s 331ms/step - loss: 0.4676 - acc: 0.8358\n",
      "13/13 [==============================] - 21s 2s/step - loss: 0.1138 - acc: 0.9663 - val_loss: 0.4676 - val_acc: 0.8358\n",
      "Epoch 27/30\n",
      "5/5 [==============================] - 2s 331ms/step - loss: 0.2996 - acc: 0.8806\n",
      "13/13 [==============================] - 20s 2s/step - loss: 0.1201 - acc: 0.9688 - val_loss: 0.2996 - val_acc: 0.8806\n",
      "Epoch 28/30\n",
      "5/5 [==============================] - 2s 339ms/step - loss: 0.2277 - acc: 0.8881\n",
      "13/13 [==============================] - 21s 2s/step - loss: 0.1172 - acc: 0.9615 - val_loss: 0.2277 - val_acc: 0.8881\n",
      "Epoch 29/30\n",
      "5/5 [==============================] - 2s 336ms/step - loss: 0.3527 - acc: 0.8731\n",
      "13/13 [==============================] - 21s 2s/step - loss: 0.0872 - acc: 0.9808 - val_loss: 0.3527 - val_acc: 0.8731\n",
      "Epoch 30/30\n",
      "5/5 [==============================] - 2s 345ms/step - loss: 0.2382 - acc: 0.8731\n",
      "13/13 [==============================] - 21s 2s/step - loss: 0.0873 - acc: 0.9688 - val_loss: 0.2382 - val_acc: 0.8731\n"
     ]
    }
   ],
   "source": [
    "# fit the model\n",
    "# Run the cell. It will take some time to execute\n",
    "r = model.fit_generator(\n",
    "  training_set,\n",
    "  validation_data=test_set,\n",
    "  epochs=30,\n",
    "  steps_per_epoch=len(training_set),\n",
    "  validation_steps=len(test_set)\n",
    ")"
   ]
  },
  {
   "cell_type": "code",
   "execution_count": null,
   "metadata": {},
   "outputs": [],
   "source": []
  },
  {
   "cell_type": "code",
   "execution_count": 102,
   "metadata": {},
   "outputs": [
    {
     "data": {
      "image/png": "[encoded data removed]",
      "text/plain": [
       "<Figure size 432x288 with 1 Axes>"
      ]
     },
     "metadata": {},
     "output_type": "display_data"
    },
    {
     "ename": "KeyError",
     "evalue": "'accuracy'",
     "output_type": "error",
     "traceback": [
      "\u001b[1;31m---------------------------------------------------------------------------\u001b[0m",
      "\u001b[1;31mKeyError\u001b[0m                                  Traceback (most recent call last)",
      "\u001b[1;32m<ipython-input-102-bb6bf5bcc936>\u001b[0m in \u001b[0;36m<module>\u001b[1;34m()\u001b[0m\n\u001b[0;32m      7\u001b[0m \u001b[1;33m\u001b[0m\u001b[0m\n\u001b[0;32m      8\u001b[0m \u001b[1;31m# plot the accuracy\u001b[0m\u001b[1;33m\u001b[0m\u001b[1;33m\u001b[0m\u001b[0m\n\u001b[1;32m----> 9\u001b[1;33m \u001b[0mplt\u001b[0m\u001b[1;33m.\u001b[0m\u001b[0mplot\u001b[0m\u001b[1;33m(\u001b[0m\u001b[0mr\u001b[0m\u001b[1;33m.\u001b[0m\u001b[0mhistory\u001b[0m\u001b[1;33m[\u001b[0m\u001b[1;34m'accuracy'\u001b[0m\u001b[1;33m]\u001b[0m\u001b[1;33m,\u001b[0m \u001b[0mlabel\u001b[0m\u001b[1;33m=\u001b[0m\u001b[1;34m'train acc'\u001b[0m\u001b[1;33m)\u001b[0m\u001b[1;33m\u001b[0m\u001b[0m\n\u001b[0m\u001b[0;32m     10\u001b[0m \u001b[0mplt\u001b[0m\u001b[1;33m.\u001b[0m\u001b[0mplot\u001b[0m\u001b[1;33m(\u001b[0m\u001b[0mr\u001b[0m\u001b[1;33m.\u001b[0m\u001b[0mhistory\u001b[0m\u001b[1;33m[\u001b[0m\u001b[1;34m'val_accuracy'\u001b[0m\u001b[1;33m]\u001b[0m\u001b[1;33m,\u001b[0m \u001b[0mlabel\u001b[0m\u001b[1;33m=\u001b[0m\u001b[1;34m'val acc'\u001b[0m\u001b[1;33m)\u001b[0m\u001b[1;33m\u001b[0m\u001b[0m\n\u001b[0;32m     11\u001b[0m \u001b[0mplt\u001b[0m\u001b[1;33m.\u001b[0m\u001b[0mlegend\u001b[0m\u001b[1;33m(\u001b[0m\u001b[1;33m)\u001b[0m\u001b[1;33m\u001b[0m\u001b[0m\n",
      "\u001b[1;31mKeyError\u001b[0m: 'accuracy'"
     ]
    },
    {
     "data": {
      "text/plain": [
       "<Figure size 432x288 with 0 Axes>"
      ]
     },
     "metadata": {},
     "output_type": "display_data"
    }
   ],
   "source": [
    "# plot the loss\n",
    "plt.plot(r.history['loss'], label='train loss')\n",
    "plt.plot(r.history['val_loss'], label='val loss')\n",
    "plt.legend()\n",
    "plt.show()\n",
    "plt.savefig('LossVal_loss')\n",
    "\n",
    "# plot the accuracy\n",
    "plt.plot(r.history['accuracy'], label='train acc')\n",
    "plt.plot(r.history['val_accuracy'], label='val acc')\n",
    "plt.legend()\n",
    "plt.show()\n",
    "plt.savefig('AccVal_acc')"
   ]
  },
  {
   "cell_type": "code",
   "execution_count": 103,
   "metadata": {},
   "outputs": [],
   "source": [
    "# save it as a h5 file\n",
    "\n",
    "\n",
    "from tensorflow.keras.models import load_model\n",
    "\n",
    "model.save('model_vgg19.h5')"
   ]
  },
  {
   "cell_type": "code",
   "execution_count": null,
   "metadata": {},
   "outputs": [],
   "source": []
  },
  {
   "cell_type": "code",
   "execution_count": 104,
   "metadata": {},
   "outputs": [],
   "source": [
    "\n",
    "y_pred = model.predict(test_set)\n"
   ]
  },
  {
   "cell_type": "code",
   "execution_count": 105,
   "metadata": {},
   "outputs": [
    {
     "data": {
      "text/plain": [
       "array([[4.01548862e-01, 5.98451138e-01],\n",
       "       [5.29528409e-02, 9.47047114e-01],\n",
       "       [5.18721938e-02, 9.48127806e-01],\n",
       "       [9.62122560e-01, 3.78774814e-02],\n",
       "       [9.99996901e-01, 3.13919145e-06],\n",
       "       [1.96894988e-01, 8.03104937e-01],\n",
       "       [9.97573078e-01, 2.42692325e-03],\n",
       "       [9.99993443e-01, 6.60478554e-06],\n",
       "       [8.99750531e-01, 1.00249484e-01],\n",
       "       [3.68661284e-02, 9.63133872e-01],\n",
       "       [6.71551645e-01, 3.28448385e-01],\n",
       "       [1.17394790e-01, 8.82605195e-01],\n",
       "       [1.00000000e+00, 2.92967588e-08],\n",
       "       [9.97458518e-01, 2.54152692e-03],\n",
       "       [9.97526109e-01, 2.47394433e-03],\n",
       "       [9.99934196e-01, 6.58296703e-05],\n",
       "       [4.33222093e-02, 9.56677794e-01],\n",
       "       [9.99999762e-01, 2.11819554e-07],\n",
       "       [9.99828339e-01, 1.71584456e-04],\n",
       "       [8.94746304e-01, 1.05253704e-01],\n",
       "       [6.16903789e-02, 9.38309610e-01],\n",
       "       [7.43396059e-02, 9.25660312e-01],\n",
       "       [7.18925893e-02, 9.28107440e-01],\n",
       "       [9.94081676e-01, 5.91829699e-03],\n",
       "       [9.99999166e-01, 7.77589548e-07],\n",
       "       [1.00000000e+00, 1.26000165e-12],\n",
       "       [6.68612868e-02, 9.33138669e-01],\n",
       "       [5.98584749e-02, 9.40141499e-01],\n",
       "       [9.96179938e-01, 3.82013014e-03],\n",
       "       [9.99938607e-01, 6.13911761e-05],\n",
       "       [3.21400732e-01, 6.78599238e-01],\n",
       "       [4.22342010e-02, 9.57765818e-01],\n",
       "       [9.99949217e-01, 5.07581426e-05],\n",
       "       [9.93437469e-01, 6.56252075e-03],\n",
       "       [9.99565780e-01, 4.34243702e-04],\n",
       "       [9.96713996e-01, 3.28596099e-03],\n",
       "       [9.05790567e-01, 9.42094177e-02],\n",
       "       [2.67416418e-01, 7.32583582e-01],\n",
       "       [2.08920404e-01, 7.91079581e-01],\n",
       "       [1.00000000e+00, 4.24422097e-08],\n",
       "       [2.26295829e-01, 7.73704171e-01],\n",
       "       [9.88427103e-01, 1.15728499e-02],\n",
       "       [3.60720813e-01, 6.39279187e-01],\n",
       "       [2.71936804e-02, 9.72806334e-01],\n",
       "       [9.97359931e-01, 2.64007412e-03],\n",
       "       [1.00000000e+00, 4.50032289e-10],\n",
       "       [6.05942756e-02, 9.39405799e-01],\n",
       "       [9.32976604e-01, 6.70234188e-02],\n",
       "       [1.82820708e-01, 8.17179322e-01],\n",
       "       [2.19952669e-02, 9.78004754e-01],\n",
       "       [9.99999881e-01, 1.30828852e-07],\n",
       "       [9.99964476e-01, 3.55420816e-05],\n",
       "       [1.00000000e+00, 1.45064050e-08],\n",
       "       [4.64360043e-02, 9.53563988e-01],\n",
       "       [9.97853816e-01, 2.14612484e-03],\n",
       "       [7.58509457e-01, 2.41490528e-01],\n",
       "       [1.00000000e+00, 1.79008148e-13],\n",
       "       [1.83151178e-02, 9.81684864e-01],\n",
       "       [1.22929826e-01, 8.77070189e-01],\n",
       "       [9.99967217e-01, 3.27787639e-05],\n",
       "       [9.99956727e-01, 4.33203204e-05],\n",
       "       [9.97918308e-01, 2.08172039e-03],\n",
       "       [1.00000000e+00, 6.20962743e-12],\n",
       "       [5.15580833e-01, 4.84419256e-01],\n",
       "       [3.06596637e-01, 6.93403363e-01],\n",
       "       [5.80125153e-02, 9.41987514e-01],\n",
       "       [1.88145384e-01, 8.11854601e-01],\n",
       "       [5.44276237e-02, 9.45572436e-01],\n",
       "       [9.99808371e-01, 1.91592553e-04],\n",
       "       [9.99550283e-01, 4.49648971e-04],\n",
       "       [9.89710510e-01, 1.02894958e-02],\n",
       "       [7.20880032e-01, 2.79119939e-01],\n",
       "       [9.99789417e-01, 2.10574028e-04],\n",
       "       [1.02559313e-01, 8.97440732e-01],\n",
       "       [9.99999762e-01, 2.80960762e-07],\n",
       "       [9.99887943e-01, 1.12068985e-04],\n",
       "       [1.37929469e-01, 8.62070501e-01],\n",
       "       [7.89338574e-02, 9.21066165e-01],\n",
       "       [9.94000971e-01, 5.99905895e-03],\n",
       "       [4.32886295e-02, 9.56711352e-01],\n",
       "       [1.67110771e-01, 8.32889259e-01],\n",
       "       [9.99172747e-01, 8.27255717e-04],\n",
       "       [9.80182528e-01, 1.98174790e-02],\n",
       "       [9.35385704e-01, 6.46143779e-02],\n",
       "       [9.74853456e-01, 2.51465719e-02],\n",
       "       [3.33714001e-02, 9.66628611e-01],\n",
       "       [7.72218555e-02, 9.22778130e-01],\n",
       "       [8.96049812e-02, 9.10394967e-01],\n",
       "       [6.60335720e-02, 9.33966398e-01],\n",
       "       [9.99506235e-01, 4.93771804e-04],\n",
       "       [9.66409564e-01, 3.35904323e-02],\n",
       "       [1.00000000e+00, 1.50373471e-14],\n",
       "       [9.73711789e-01, 2.62882374e-02],\n",
       "       [1.28166452e-01, 8.71833563e-01],\n",
       "       [6.96733370e-02, 9.30326581e-01],\n",
       "       [1.93105429e-01, 8.06894541e-01],\n",
       "       [1.00000000e+00, 1.41269203e-15],\n",
       "       [1.00000000e+00, 1.35956251e-08],\n",
       "       [6.17802501e-01, 3.82197410e-01],\n",
       "       [7.02110976e-02, 9.29788947e-01],\n",
       "       [9.92935479e-01, 7.06448080e-03],\n",
       "       [5.86750768e-02, 9.41324949e-01],\n",
       "       [6.44223541e-02, 9.35577631e-01],\n",
       "       [8.04213583e-01, 1.95786402e-01],\n",
       "       [3.64396311e-02, 9.63560343e-01],\n",
       "       [8.85748684e-01, 1.14251308e-01],\n",
       "       [1.87647924e-01, 8.12352061e-01],\n",
       "       [7.42744356e-02, 9.25725520e-01],\n",
       "       [9.88219619e-01, 1.17803859e-02],\n",
       "       [3.83836985e-01, 6.16162956e-01],\n",
       "       [1.30360112e-01, 8.69639874e-01],\n",
       "       [9.59372446e-02, 9.04062808e-01],\n",
       "       [4.35195148e-01, 5.64804852e-01],\n",
       "       [2.18350187e-01, 7.81649828e-01],\n",
       "       [9.64135647e-01, 3.58643718e-02],\n",
       "       [1.06375918e-01, 8.93624067e-01],\n",
       "       [9.59351838e-01, 4.06481996e-02],\n",
       "       [9.99983907e-01, 1.61071985e-05],\n",
       "       [9.99994874e-01, 5.07960294e-06],\n",
       "       [9.99925256e-01, 7.47760350e-05],\n",
       "       [8.76830280e-01, 1.23169690e-01],\n",
       "       [9.99999762e-01, 2.34967189e-07],\n",
       "       [9.99933124e-01, 6.69285364e-05],\n",
       "       [5.46258204e-02, 9.45374250e-01],\n",
       "       [9.93454218e-01, 6.54574810e-03],\n",
       "       [1.00000000e+00, 1.62472098e-08],\n",
       "       [9.99999166e-01, 7.90111244e-07],\n",
       "       [7.27362931e-02, 9.27263737e-01],\n",
       "       [6.51157275e-02, 9.34884250e-01],\n",
       "       [9.99857187e-01, 1.42813995e-04],\n",
       "       [9.94020224e-01, 5.97976847e-03],\n",
       "       [3.16717178e-01, 6.83282852e-01],\n",
       "       [9.99990106e-01, 9.90507579e-06],\n",
       "       [1.19740561e-01, 8.80259395e-01]], dtype=float32)"
      ]
     },
     "execution_count": 105,
     "metadata": {},
     "output_type": "execute_result"
    }
   ],
   "source": [
    "y_pred"
   ]
  },
  {
   "cell_type": "code",
   "execution_count": 106,
   "metadata": {},
   "outputs": [],
   "source": [
    "import numpy as np\n",
    "y_pred = np.argmax(y_pred, axis=1)"
   ]
  },
  {
   "cell_type": "code",
   "execution_count": 107,
   "metadata": {},
   "outputs": [
    {
     "data": {
      "text/plain": [
       "array([1, 1, 1, 0, 0, 1, 0, 0, 0, 1, 0, 1, 0, 0, 0, 0, 1, 0, 0, 0, 1, 1,\n",
       "       1, 0, 0, 0, 1, 1, 0, 0, 1, 1, 0, 0, 0, 0, 0, 1, 1, 0, 1, 0, 1, 1,\n",
       "       0, 0, 1, 0, 1, 1, 0, 0, 0, 1, 0, 0, 0, 1, 1, 0, 0, 0, 0, 0, 1, 1,\n",
       "       1, 1, 0, 0, 0, 0, 0, 1, 0, 0, 1, 1, 0, 1, 1, 0, 0, 0, 0, 1, 1, 1,\n",
       "       1, 0, 0, 0, 0, 1, 1, 1, 0, 0, 0, 1, 0, 1, 1, 0, 1, 0, 1, 1, 0, 1,\n",
       "       1, 1, 1, 1, 0, 1, 0, 0, 0, 0, 0, 0, 0, 1, 0, 0, 0, 1, 1, 0, 0, 1,\n",
       "       0, 1], dtype=int64)"
      ]
     },
     "execution_count": 107,
     "metadata": {},
     "output_type": "execute_result"
    }
   ],
   "source": [
    "y_pred"
   ]
  },
  {
   "cell_type": "code",
   "execution_count": null,
   "metadata": {},
   "outputs": [],
   "source": []
  },
  {
   "cell_type": "code",
   "execution_count": 108,
   "metadata": {},
   "outputs": [],
   "source": [
    "from tensorflow.keras.models import load_model\n",
    "from tensorflow.keras.preprocessing import image"
   ]
  },
  {
   "cell_type": "code",
   "execution_count": 22,
   "metadata": {},
   "outputs": [],
   "source": [
    "model=load_model('model_vgg19.h5')"
   ]
  }
 ],
 "metadata": {
  "kernelspec": {
   "display_name": "Python 3",
   "language": "python",
   "name": "python3"
  },
  "language_info": {
   "codemirror_mode": {
    "name": "ipython",
    "version": 3
   },
   "file_extension": ".py",
   "mimetype": "text/x-python",
   "name": "python",
   "nbconvert_exporter": "python",
   "pygments_lexer": "ipython3",
   "version": "3.6.5"
  }
 },
 "nbformat": 4,
 "nbformat_minor": 2
}
